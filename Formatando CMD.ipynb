{
 "metadata": {
  "language_info": {
   "codemirror_mode": {
    "name": "ipython",
    "version": 3
   },
   "file_extension": ".py",
   "mimetype": "text/x-python",
   "name": "python",
   "nbconvert_exporter": "python",
   "pygments_lexer": "ipython3",
   "version": "3.9.5-final"
  },
  "orig_nbformat": 2,
  "kernelspec": {
   "name": "python39564bitproducaofbe8195f6ff7444f99734258eafe0fb5",
   "display_name": "Python 3.9.5 64-bit ('producao')"
  }
 },
 "nbformat": 4,
 "nbformat_minor": 2,
 "cells": [
  {
   "source": [
    "### APRENDENDO A FORMATAR CMD COM PYTHON E rich\n",
    "#### `https://rich.readthedocs.io/`"
   ],
   "cell_type": "markdown",
   "metadata": {}
  },
  {
   "cell_type": "code",
   "execution_count": 147,
   "metadata": {},
   "outputs": [],
   "source": [
    "from rich import print"
   ]
  },
  {
   "cell_type": "code",
   "execution_count": 149,
   "metadata": {},
   "outputs": [
    {
     "output_type": "display_data",
     "data": {
      "text/plain": "\u001b[1m{\u001b[0m\n    \u001b[32m'nome'\u001b[0m: \u001b[32m'Aluno 01'\u001b[0m,\n    \u001b[32m'idade'\u001b[0m: \u001b[1;36m33\u001b[0m,\n    \u001b[32m'nota'\u001b[0m: \u001b[1;36m5.4\u001b[0m,\n    \u001b[32m'favoritos'\u001b[0m: \u001b[1m{\u001b[0m\u001b[32m'filme'\u001b[0m: \u001b[32m'10 mandamentos'\u001b[0m, \u001b[32m'ano'\u001b[0m: \u001b[1;36m1987\u001b[0m\u001b[1m}\u001b[0m,\n    \u001b[32m'coisas'\u001b[0m: \u001b[1m[\u001b[0m\u001b[32m'correr'\u001b[0m, \u001b[1;36m1\u001b[0m, \u001b[32m'andar'\u001b[0m, \u001b[1;36m2\u001b[0m\u001b[1m]\u001b[0m\n\u001b[1m}\u001b[0m\n",
      "text/html": "<pre style=\"white-space:pre;overflow-x:auto;line-height:normal;font-family:Menlo,'DejaVu Sans Mono',consolas,'Courier New',monospace\"><span style=\"font-weight: bold\">{</span>\n    <span style=\"color: #008000; text-decoration-color: #008000\">'nome'</span>: <span style=\"color: #008000; text-decoration-color: #008000\">'Aluno 01'</span>,\n    <span style=\"color: #008000; text-decoration-color: #008000\">'idade'</span>: <span style=\"color: #008080; text-decoration-color: #008080; font-weight: bold\">33</span>,\n    <span style=\"color: #008000; text-decoration-color: #008000\">'nota'</span>: <span style=\"color: #008080; text-decoration-color: #008080; font-weight: bold\">5.4</span>,\n    <span style=\"color: #008000; text-decoration-color: #008000\">'favoritos'</span>: <span style=\"font-weight: bold\">{</span><span style=\"color: #008000; text-decoration-color: #008000\">'filme'</span>: <span style=\"color: #008000; text-decoration-color: #008000\">'10 mandamentos'</span>, <span style=\"color: #008000; text-decoration-color: #008000\">'ano'</span>: <span style=\"color: #008080; text-decoration-color: #008080; font-weight: bold\">1987</span><span style=\"font-weight: bold\">}</span>,\n    <span style=\"color: #008000; text-decoration-color: #008000\">'coisas'</span>: <span style=\"font-weight: bold\">[</span><span style=\"color: #008000; text-decoration-color: #008000\">'correr'</span>, <span style=\"color: #008080; text-decoration-color: #008080; font-weight: bold\">1</span>, <span style=\"color: #008000; text-decoration-color: #008000\">'andar'</span>, <span style=\"color: #008080; text-decoration-color: #008080; font-weight: bold\">2</span><span style=\"font-weight: bold\">]</span>\n<span style=\"font-weight: bold\">}</span>\n</pre>\n"
     },
     "metadata": {}
    }
   ],
   "source": [
    "# TEXTO SIMPLES\n",
    "txt = {\"nome\": \"Aluno 01\", \"idade\": 33, \"nota\": 5.4, \"favoritos\": {\"filme\": \"10 mandamentos\", \"ano\": 1987}, \"coisas\": [\"correr\", 1, \"andar\", 2]}\n",
    "print(txt)"
   ]
  },
  {
   "cell_type": "code",
   "execution_count": 151,
   "metadata": {},
   "outputs": [],
   "source": [
    "from rich.console import Console"
   ]
  },
  {
   "cell_type": "code",
   "execution_count": 153,
   "metadata": {},
   "outputs": [
    {
     "output_type": "display_data",
     "data": {
      "text/plain": "\u001b[1mUM TEXTO SIMPLES VAI!\u001b[0m\n",
      "text/html": "<pre style=\"white-space:pre;overflow-x:auto;line-height:normal;font-family:Menlo,'DejaVu Sans Mono',consolas,'Courier New',monospace\"><span style=\"font-weight: bold\">UM TEXTO SIMPLES VAI!</span>\n</pre>\n"
     },
     "metadata": {}
    },
    {
     "output_type": "display_data",
     "data": {
      "text/plain": "\u001b[1;4mUM TEXTO SIMPLES VAI!\u001b[0m\n",
      "text/html": "<pre style=\"white-space:pre;overflow-x:auto;line-height:normal;font-family:Menlo,'DejaVu Sans Mono',consolas,'Courier New',monospace\"><span style=\"font-weight: bold; text-decoration: underline\">UM TEXTO SIMPLES VAI!</span>\n</pre>\n"
     },
     "metadata": {}
    },
    {
     "output_type": "display_data",
     "data": {
      "text/plain": "\u001b[1;4;32mUM TEXTO SIMPLES VAI!\u001b[0m\n",
      "text/html": "<pre style=\"white-space:pre;overflow-x:auto;line-height:normal;font-family:Menlo,'DejaVu Sans Mono',consolas,'Courier New',monospace\"><span style=\"color: #008000; text-decoration-color: #008000; font-weight: bold; text-decoration: underline\">UM TEXTO SIMPLES VAI!</span>\n</pre>\n"
     },
     "metadata": {}
    },
    {
     "output_type": "display_data",
     "data": {
      "text/plain": "\u001b[1;4;31;47mUM TEXTO SIMPLES VAI!\u001b[0m\n",
      "text/html": "<pre style=\"white-space:pre;overflow-x:auto;line-height:normal;font-family:Menlo,'DejaVu Sans Mono',consolas,'Courier New',monospace\"><span style=\"color: #800000; text-decoration-color: #800000; background-color: #c0c0c0; font-weight: bold; text-decoration: underline\">UM TEXTO SIMPLES VAI!</span>\n</pre>\n"
     },
     "metadata": {}
    },
    {
     "output_type": "display_data",
     "data": {
      "text/plain": "\u001b[1;4;33;40mUM TEXTO SIMPLES VAI!\u001b[0m\n",
      "text/html": "<pre style=\"white-space:pre;overflow-x:auto;line-height:normal;font-family:Menlo,'DejaVu Sans Mono',consolas,'Courier New',monospace\"><span style=\"color: #808000; text-decoration-color: #808000; background-color: #000000; font-weight: bold; text-decoration: underline\">UM TEXTO SIMPLES VAI!</span>\n</pre>\n"
     },
     "metadata": {}
    },
    {
     "output_type": "display_data",
     "data": {
      "text/plain": "\u001b[1;36mJESUS\u001b[0m ESTA ME \u001b[1mGUIANDO\u001b[0m PARA \u001b[36mFAZER\u001b[0m \u001b[1mMELHOR!\u001b[0m\n",
      "text/html": "<pre style=\"white-space:pre;overflow-x:auto;line-height:normal;font-family:Menlo,'DejaVu Sans Mono',consolas,'Courier New',monospace\"><span style=\"color: #008080; text-decoration-color: #008080; font-weight: bold\">JESUS</span> ESTA ME <span style=\"font-weight: bold\">GUIANDO</span> PARA <span style=\"color: #008080; text-decoration-color: #008080\">FAZER</span> <span style=\"font-weight: bold\">MELHOR!</span>\n</pre>\n"
     },
     "metadata": {}
    }
   ],
   "source": [
    "console = Console(record=True)\n",
    "console.print(\"UM TEXTO SIMPLES VAI!\", style='bold')\n",
    "console.print(\"UM TEXTO SIMPLES VAI!\", style='bold underline')\n",
    "console.print(\"UM TEXTO SIMPLES VAI!\", style='bold underline green')\n",
    "console.print(\"UM TEXTO SIMPLES VAI!\", style='bold underline red on white')\n",
    "console.print(\"UM TEXTO SIMPLES VAI!\", style='bold underline yellow on black')\n",
    "console.print(\"[bold][cyan]JESUS[/][/] ESTA ME [bold]GUIANDO[/] PARA [cyan]FAZER[/] [bold]MELHOR![/]\")\n",
    "\n"
   ]
  },
  {
   "cell_type": "code",
   "execution_count": 155,
   "metadata": {},
   "outputs": [],
   "source": [
    "from rich.text import Text"
   ]
  },
  {
   "cell_type": "code",
   "execution_count": 157,
   "metadata": {},
   "outputs": [
    {
     "output_type": "display_data",
     "data": {
      "text/plain": "\u001b[1;35mEsse texto\u001b[0m vai ter uma parte com estilo. E outra não\n",
      "text/html": "<pre style=\"white-space:pre;overflow-x:auto;line-height:normal;font-family:Menlo,'DejaVu Sans Mono',consolas,'Courier New',monospace\"><span style=\"color: #800080; text-decoration-color: #800080; font-weight: bold\">Esse texto</span> vai ter uma parte com estilo. E outra não\n</pre>\n"
     },
     "metadata": {}
    }
   ],
   "source": [
    "text = Text(\"Esse texto vai ter uma parte com estilo. E outra não\")\n",
    "text.stylize(\"bold magenta\", 0, 10)\n",
    "console.print(text)"
   ]
  },
  {
   "cell_type": "code",
   "execution_count": 159,
   "metadata": {},
   "outputs": [],
   "source": [
    "from rich.theme import Theme\n",
    "from random import choice, uniform"
   ]
  },
  {
   "cell_type": "code",
   "execution_count": 161,
   "metadata": {},
   "outputs": [
    {
     "output_type": "display_data",
     "data": {
      "text/plain": "\u001b[1;33mJESUS\u001b[0m\u001b[1;31m ESTA VOLTANDO COMIGO PARA CASA😍️\u001b[0m\n",
      "text/html": "<pre style=\"white-space:pre;overflow-x:auto;line-height:normal;font-family:Menlo,'DejaVu Sans Mono',consolas,'Courier New',monospace\"><span style=\"color: #808000; text-decoration-color: #808000; font-weight: bold\">JESUS</span><span style=\"color: #800000; text-decoration-color: #800000; font-weight: bold\"> ESTA VOLTANDO COMIGO PARA CASA😍️</span>\n</pre>\n"
     },
     "metadata": {}
    },
    {
     "output_type": "display_data",
     "data": {
      "text/plain": "\u001b[32mESTOU FAZENDO MEU MELHOR PARA \u001b[0m\u001b[1;34mAJUDAR\u001b[0m\u001b[32m🤷️\u001b[0m\n",
      "text/html": "<pre style=\"white-space:pre;overflow-x:auto;line-height:normal;font-family:Menlo,'DejaVu Sans Mono',consolas,'Courier New',monospace\"><span style=\"color: #008000; text-decoration-color: #008000\">ESTOU FAZENDO MEU MELHOR PARA </span><span style=\"color: #000080; text-decoration-color: #000080; font-weight: bold\">AJUDAR</span><span style=\"color: #008000; text-decoration-color: #008000\">🤷️</span>\n</pre>\n"
     },
     "metadata": {}
    },
    {
     "output_type": "display_data",
     "data": {
      "text/plain": "\u001b[32mQUEM ME DERA FICAR BOM NO QUE GOSTO DE FAZER\u001b[0m\n",
      "text/html": "<pre style=\"white-space:pre;overflow-x:auto;line-height:normal;font-family:Menlo,'DejaVu Sans Mono',consolas,'Courier New',monospace\"><span style=\"color: #008000; text-decoration-color: #008000\">QUEM ME DERA FICAR BOM NO QUE GOSTO DE FAZER</span>\n</pre>\n"
     },
     "metadata": {}
    },
    {
     "output_type": "display_data",
     "data": {
      "text/plain": "\u001b[1;31mCOM ELE TUDO💪️ \u001b[0m\u001b[1;31mEU POSSO\u001b[0m\n",
      "text/html": "<pre style=\"white-space:pre;overflow-x:auto;line-height:normal;font-family:Menlo,'DejaVu Sans Mono',consolas,'Courier New',monospace\"><span style=\"color: #800000; text-decoration-color: #800000; font-weight: bold\">COM ELE TUDO💪️ EU POSSO</span>\n</pre>\n"
     },
     "metadata": {}
    }
   ],
   "source": [
    "tema = {\"sucess\": \"green\", \"error\": \"bold red\", \"alert\": \"bold yellow\"}\n",
    "temas = Theme(tema)\n",
    "console = Console(theme=temas, record=True)\n",
    "console.print(\"[bold yellow]JESUS[/] ESTA VOLTANDO COMIGO PARA CASA😍️\", style=choice([x for x in tema.keys()]))\n",
    "console.print(\"ESTOU FAZENDO MEU MELHOR PARA [bold blue]AJUDAR[/]🤷️\", style=choice([x for x in tema.keys()]))\n",
    "console.print(\"QUEM ME DERA FICAR BOM NO QUE GOSTO DE FAZER\", style=choice([x for x in tema.keys()]))\n",
    "console.print(\"COM ELE TUDO💪️ [cyan underline on pink]EU POSSO[/]\", style=choice([x for x in tema.keys()]))"
   ]
  },
  {
   "cell_type": "code",
   "execution_count": 163,
   "metadata": {},
   "outputs": [],
   "source": [
    "from time import sleep"
   ]
  },
  {
   "cell_type": "code",
   "execution_count": 165,
   "metadata": {},
   "outputs": [
    {
     "output_type": "display_data",
     "data": {
      "text/plain": "\u001b[2;36m[00:49:08]\u001b[0m\u001b[2;36m \u001b[0mVAMOS TENTAR \u001b[1;36m0\u001b[0m fazendo em: \u001b[1;36m0.785990074832633\u001b[0m                       \u001b]8;id=650787;file:///tmp/ipykernel_18999/2372915734.py\u001b\\\u001b[2m2372915734.py\u001b[0m\u001b]8;;\u001b\\\u001b[2m:3\u001b[0m\n",
      "text/html": "<pre style=\"white-space:pre;overflow-x:auto;line-height:normal;font-family:Menlo,'DejaVu Sans Mono',consolas,'Courier New',monospace\"><span style=\"color: #7fbfbf; text-decoration-color: #7fbfbf\">[00:49:08] </span>VAMOS TENTAR <span style=\"color: #008080; text-decoration-color: #008080; font-weight: bold\">0</span> fazendo em: <span style=\"color: #008080; text-decoration-color: #008080; font-weight: bold\">0.785990074832633</span>                       <a href=\"file:///tmp/ipykernel_18999/2372915734.py\"><span style=\"color: #7f7f7f; text-decoration-color: #7f7f7f\">2372915734.py</span></a><span style=\"color: #7f7f7f; text-decoration-color: #7f7f7f\">:3</span>\n</pre>\n"
     },
     "metadata": {}
    },
    {
     "output_type": "display_data",
     "data": {
      "text/plain": "\u001b[2;36m[00:49:09]\u001b[0m\u001b[2;36m \u001b[0mVAMOS TENTAR \u001b[1;36m1\u001b[0m fazendo em: \u001b[1;36m0.020148294795802935\u001b[0m                    \u001b]8;id=741667;file:///tmp/ipykernel_18999/2372915734.py\u001b\\\u001b[2m2372915734.py\u001b[0m\u001b]8;;\u001b\\\u001b[2m:3\u001b[0m\n",
      "text/html": "<pre style=\"white-space:pre;overflow-x:auto;line-height:normal;font-family:Menlo,'DejaVu Sans Mono',consolas,'Courier New',monospace\"><span style=\"color: #7fbfbf; text-decoration-color: #7fbfbf\">[00:49:09] </span>VAMOS TENTAR <span style=\"color: #008080; text-decoration-color: #008080; font-weight: bold\">1</span> fazendo em: <span style=\"color: #008080; text-decoration-color: #008080; font-weight: bold\">0.020148294795802935</span>                    <a href=\"file:///tmp/ipykernel_18999/2372915734.py\"><span style=\"color: #7f7f7f; text-decoration-color: #7f7f7f\">2372915734.py</span></a><span style=\"color: #7f7f7f; text-decoration-color: #7f7f7f\">:3</span>\n</pre>\n"
     },
     "metadata": {}
    },
    {
     "output_type": "display_data",
     "data": {
      "text/plain": "\u001b[2;36m          \u001b[0m\u001b[2;36m \u001b[0mVAMOS TENTAR \u001b[1;36m2\u001b[0m fazendo em: \u001b[1;36m1.0484741747061916\u001b[0m                      \u001b]8;id=300765;file:///tmp/ipykernel_18999/2372915734.py\u001b\\\u001b[2m2372915734.py\u001b[0m\u001b]8;;\u001b\\\u001b[2m:3\u001b[0m\n",
      "text/html": "<pre style=\"white-space:pre;overflow-x:auto;line-height:normal;font-family:Menlo,'DejaVu Sans Mono',consolas,'Courier New',monospace\"><span style=\"color: #7fbfbf; text-decoration-color: #7fbfbf\">           </span>VAMOS TENTAR <span style=\"color: #008080; text-decoration-color: #008080; font-weight: bold\">2</span> fazendo em: <span style=\"color: #008080; text-decoration-color: #008080; font-weight: bold\">1.0484741747061916</span>                      <a href=\"file:///tmp/ipykernel_18999/2372915734.py\"><span style=\"color: #7f7f7f; text-decoration-color: #7f7f7f\">2372915734.py</span></a><span style=\"color: #7f7f7f; text-decoration-color: #7f7f7f\">:3</span>\n</pre>\n"
     },
     "metadata": {}
    },
    {
     "output_type": "display_data",
     "data": {
      "text/plain": "\u001b[2;36m[00:49:10]\u001b[0m\u001b[2;36m \u001b[0mVAMOS TENTAR \u001b[1;36m3\u001b[0m fazendo em: \u001b[1;36m1.6587926195449216\u001b[0m                      \u001b]8;id=764757;file:///tmp/ipykernel_18999/2372915734.py\u001b\\\u001b[2m2372915734.py\u001b[0m\u001b]8;;\u001b\\\u001b[2m:3\u001b[0m\n",
      "text/html": "<pre style=\"white-space:pre;overflow-x:auto;line-height:normal;font-family:Menlo,'DejaVu Sans Mono',consolas,'Courier New',monospace\"><span style=\"color: #7fbfbf; text-decoration-color: #7fbfbf\">[00:49:10] </span>VAMOS TENTAR <span style=\"color: #008080; text-decoration-color: #008080; font-weight: bold\">3</span> fazendo em: <span style=\"color: #008080; text-decoration-color: #008080; font-weight: bold\">1.6587926195449216</span>                      <a href=\"file:///tmp/ipykernel_18999/2372915734.py\"><span style=\"color: #7f7f7f; text-decoration-color: #7f7f7f\">2372915734.py</span></a><span style=\"color: #7f7f7f; text-decoration-color: #7f7f7f\">:3</span>\n</pre>\n"
     },
     "metadata": {}
    },
    {
     "output_type": "display_data",
     "data": {
      "text/plain": "\u001b[2;36m[00:49:12]\u001b[0m\u001b[2;36m \u001b[0mVAMOS TENTAR \u001b[1;36m4\u001b[0m fazendo em: \u001b[1;36m1.1610878877502242\u001b[0m                      \u001b]8;id=349385;file:///tmp/ipykernel_18999/2372915734.py\u001b\\\u001b[2m2372915734.py\u001b[0m\u001b]8;;\u001b\\\u001b[2m:3\u001b[0m\n",
      "text/html": "<pre style=\"white-space:pre;overflow-x:auto;line-height:normal;font-family:Menlo,'DejaVu Sans Mono',consolas,'Courier New',monospace\"><span style=\"color: #7fbfbf; text-decoration-color: #7fbfbf\">[00:49:12] </span>VAMOS TENTAR <span style=\"color: #008080; text-decoration-color: #008080; font-weight: bold\">4</span> fazendo em: <span style=\"color: #008080; text-decoration-color: #008080; font-weight: bold\">1.1610878877502242</span>                      <a href=\"file:///tmp/ipykernel_18999/2372915734.py\"><span style=\"color: #7f7f7f; text-decoration-color: #7f7f7f\">2372915734.py</span></a><span style=\"color: #7f7f7f; text-decoration-color: #7f7f7f\">:3</span>\n</pre>\n"
     },
     "metadata": {}
    },
    {
     "output_type": "display_data",
     "data": {
      "text/plain": "\u001b[2;36m[00:49:13]\u001b[0m\u001b[2;36m \u001b[0mVAMOS TENTAR \u001b[1;36m5\u001b[0m fazendo em: \u001b[1;36m0.741821094298043\u001b[0m                       \u001b]8;id=536452;file:///tmp/ipykernel_18999/2372915734.py\u001b\\\u001b[2m2372915734.py\u001b[0m\u001b]8;;\u001b\\\u001b[2m:3\u001b[0m\n",
      "text/html": "<pre style=\"white-space:pre;overflow-x:auto;line-height:normal;font-family:Menlo,'DejaVu Sans Mono',consolas,'Courier New',monospace\"><span style=\"color: #7fbfbf; text-decoration-color: #7fbfbf\">[00:49:13] </span>VAMOS TENTAR <span style=\"color: #008080; text-decoration-color: #008080; font-weight: bold\">5</span> fazendo em: <span style=\"color: #008080; text-decoration-color: #008080; font-weight: bold\">0.741821094298043</span>                       <a href=\"file:///tmp/ipykernel_18999/2372915734.py\"><span style=\"color: #7f7f7f; text-decoration-color: #7f7f7f\">2372915734.py</span></a><span style=\"color: #7f7f7f; text-decoration-color: #7f7f7f\">:3</span>\n</pre>\n"
     },
     "metadata": {}
    },
    {
     "output_type": "display_data",
     "data": {
      "text/plain": "\u001b[2;36m[00:49:14]\u001b[0m\u001b[2;36m \u001b[0mVAMOS TENTAR \u001b[1;36m6\u001b[0m fazendo em: \u001b[1;36m1.3331981347614232\u001b[0m                      \u001b]8;id=669609;file:///tmp/ipykernel_18999/2372915734.py\u001b\\\u001b[2m2372915734.py\u001b[0m\u001b]8;;\u001b\\\u001b[2m:3\u001b[0m\n",
      "text/html": "<pre style=\"white-space:pre;overflow-x:auto;line-height:normal;font-family:Menlo,'DejaVu Sans Mono',consolas,'Courier New',monospace\"><span style=\"color: #7fbfbf; text-decoration-color: #7fbfbf\">[00:49:14] </span>VAMOS TENTAR <span style=\"color: #008080; text-decoration-color: #008080; font-weight: bold\">6</span> fazendo em: <span style=\"color: #008080; text-decoration-color: #008080; font-weight: bold\">1.3331981347614232</span>                      <a href=\"file:///tmp/ipykernel_18999/2372915734.py\"><span style=\"color: #7f7f7f; text-decoration-color: #7f7f7f\">2372915734.py</span></a><span style=\"color: #7f7f7f; text-decoration-color: #7f7f7f\">:3</span>\n</pre>\n"
     },
     "metadata": {}
    },
    {
     "output_type": "display_data",
     "data": {
      "text/plain": "\u001b[2;36m[00:49:15]\u001b[0m\u001b[2;36m \u001b[0mVAMOS TENTAR \u001b[1;36m7\u001b[0m fazendo em: \u001b[1;36m1.6080579649551276\u001b[0m                      \u001b]8;id=677454;file:///tmp/ipykernel_18999/2372915734.py\u001b\\\u001b[2m2372915734.py\u001b[0m\u001b]8;;\u001b\\\u001b[2m:3\u001b[0m\n",
      "text/html": "<pre style=\"white-space:pre;overflow-x:auto;line-height:normal;font-family:Menlo,'DejaVu Sans Mono',consolas,'Courier New',monospace\"><span style=\"color: #7fbfbf; text-decoration-color: #7fbfbf\">[00:49:15] </span>VAMOS TENTAR <span style=\"color: #008080; text-decoration-color: #008080; font-weight: bold\">7</span> fazendo em: <span style=\"color: #008080; text-decoration-color: #008080; font-weight: bold\">1.6080579649551276</span>                      <a href=\"file:///tmp/ipykernel_18999/2372915734.py\"><span style=\"color: #7f7f7f; text-decoration-color: #7f7f7f\">2372915734.py</span></a><span style=\"color: #7f7f7f; text-decoration-color: #7f7f7f\">:3</span>\n</pre>\n"
     },
     "metadata": {}
    },
    {
     "output_type": "display_data",
     "data": {
      "text/plain": "\u001b[2;36m[00:49:17]\u001b[0m\u001b[2;36m \u001b[0mVAMOS TENTAR \u001b[1;36m8\u001b[0m fazendo em: \u001b[1;36m0.7940783391770503\u001b[0m                      \u001b]8;id=837763;file:///tmp/ipykernel_18999/2372915734.py\u001b\\\u001b[2m2372915734.py\u001b[0m\u001b]8;;\u001b\\\u001b[2m:3\u001b[0m\n",
      "text/html": "<pre style=\"white-space:pre;overflow-x:auto;line-height:normal;font-family:Menlo,'DejaVu Sans Mono',consolas,'Courier New',monospace\"><span style=\"color: #7fbfbf; text-decoration-color: #7fbfbf\">[00:49:17] </span>VAMOS TENTAR <span style=\"color: #008080; text-decoration-color: #008080; font-weight: bold\">8</span> fazendo em: <span style=\"color: #008080; text-decoration-color: #008080; font-weight: bold\">0.7940783391770503</span>                      <a href=\"file:///tmp/ipykernel_18999/2372915734.py\"><span style=\"color: #7f7f7f; text-decoration-color: #7f7f7f\">2372915734.py</span></a><span style=\"color: #7f7f7f; text-decoration-color: #7f7f7f\">:3</span>\n</pre>\n"
     },
     "metadata": {}
    },
    {
     "output_type": "display_data",
     "data": {
      "text/plain": "\u001b[2;36m          \u001b[0m\u001b[2;36m \u001b[0mVAMOS TENTAR \u001b[1;36m9\u001b[0m fazendo em: \u001b[1;36m1.2340037005472477\u001b[0m                      \u001b]8;id=740520;file:///tmp/ipykernel_18999/2372915734.py\u001b\\\u001b[2m2372915734.py\u001b[0m\u001b]8;;\u001b\\\u001b[2m:3\u001b[0m\n",
      "text/html": "<pre style=\"white-space:pre;overflow-x:auto;line-height:normal;font-family:Menlo,'DejaVu Sans Mono',consolas,'Courier New',monospace\"><span style=\"color: #7fbfbf; text-decoration-color: #7fbfbf\">           </span>VAMOS TENTAR <span style=\"color: #008080; text-decoration-color: #008080; font-weight: bold\">9</span> fazendo em: <span style=\"color: #008080; text-decoration-color: #008080; font-weight: bold\">1.2340037005472477</span>                      <a href=\"file:///tmp/ipykernel_18999/2372915734.py\"><span style=\"color: #7f7f7f; text-decoration-color: #7f7f7f\">2372915734.py</span></a><span style=\"color: #7f7f7f; text-decoration-color: #7f7f7f\">:3</span>\n</pre>\n"
     },
     "metadata": {}
    }
   ],
   "source": [
    "for i in range(10):\n",
    "    es = uniform(0, 2)\n",
    "    console.log(f\"VAMOS TENTAR {i} fazendo em: {es}\")\n",
    "    sleep(es)"
   ]
  },
  {
   "cell_type": "code",
   "execution_count": 160,
   "metadata": {},
   "outputs": [
    {
     "output_type": "execute_result",
     "data": {
      "text/plain": [
       "<bound method InteractiveShell.excepthook of <ipykernel.zmqshell.ZMQInteractiveShell object at 0x7fbd51e87e50>>"
      ]
     },
     "metadata": {},
     "execution_count": 160
    }
   ],
   "source": [
    "from rich.traceback import install\n",
    "install()"
   ]
  },
  {
   "cell_type": "code",
   "execution_count": 162,
   "metadata": {},
   "outputs": [
    {
     "output_type": "display_data",
     "data": {
      "text/plain": "\u001b[2;36m[00:49:07]\u001b[0m\u001b[2;36m \u001b[0mESTOU SOMANDO E IMPRIMINDO UM LOG MELHOR \u001b[1m{\u001b[0mx\u001b[1m}\u001b[0m + \u001b[1m{\u001b[0my\u001b[1m}\u001b[0m = \u001b[1m{\u001b[0mx + y\u001b[1m}\u001b[0m       \u001b]8;id=421794;file:///tmp/ipykernel_18999/3353167019.py\u001b\\\u001b[2m3353167019.py\u001b[0m\u001b]8;;\u001b\\\u001b[2m:2\u001b[0m\n           \u001b[34m╭─\u001b[0m\u001b[34m \u001b[0m\u001b[3;34mlocals\u001b[0m\u001b[34m \u001b[0m\u001b[34m─╮\u001b[0m                                                                      \n           \u001b[34m│\u001b[0m \u001b[3;33mx\u001b[0m\u001b[31m =\u001b[0m \u001b[1;36m1\u001b[0m    \u001b[34m│\u001b[0m                                                                      \n           \u001b[34m│\u001b[0m \u001b[3;33my\u001b[0m\u001b[31m =\u001b[0m \u001b[1;36m2\u001b[0m    \u001b[34m│\u001b[0m                                                                      \n           \u001b[34m╰──────────╯\u001b[0m                                                                      \n",
      "text/html": "<pre style=\"white-space:pre;overflow-x:auto;line-height:normal;font-family:Menlo,'DejaVu Sans Mono',consolas,'Courier New',monospace\"><span style=\"color: #7fbfbf; text-decoration-color: #7fbfbf\">[00:49:07] </span>ESTOU SOMANDO E IMPRIMINDO UM LOG MELHOR <span style=\"font-weight: bold\">{</span>x<span style=\"font-weight: bold\">}</span> + <span style=\"font-weight: bold\">{</span>y<span style=\"font-weight: bold\">}</span> = <span style=\"font-weight: bold\">{</span>x + y<span style=\"font-weight: bold\">}</span>       <a href=\"file:///tmp/ipykernel_18999/3353167019.py\"><span style=\"color: #7f7f7f; text-decoration-color: #7f7f7f\">3353167019.py</span></a><span style=\"color: #7f7f7f; text-decoration-color: #7f7f7f\">:2</span>\n           <span style=\"color: #000080; text-decoration-color: #000080\">╭─ </span><span style=\"color: #000080; text-decoration-color: #000080; font-style: italic\">locals</span><span style=\"color: #000080; text-decoration-color: #000080\"> ─╮</span>                                                                      \n           <span style=\"color: #000080; text-decoration-color: #000080\">│</span> <span style=\"color: #808000; text-decoration-color: #808000; font-style: italic\">x</span><span style=\"color: #800000; text-decoration-color: #800000\"> =</span> <span style=\"color: #008080; text-decoration-color: #008080; font-weight: bold\">1</span>    <span style=\"color: #000080; text-decoration-color: #000080\">│</span>                                                                      \n           <span style=\"color: #000080; text-decoration-color: #000080\">│</span> <span style=\"color: #808000; text-decoration-color: #808000; font-style: italic\">y</span><span style=\"color: #800000; text-decoration-color: #800000\"> =</span> <span style=\"color: #008080; text-decoration-color: #008080; font-weight: bold\">2</span>    <span style=\"color: #000080; text-decoration-color: #000080\">│</span>                                                                      \n           <span style=\"color: #000080; text-decoration-color: #000080\">╰──────────╯</span>                                                                      \n</pre>\n"
     },
     "metadata": {}
    },
    {
     "output_type": "display_data",
     "data": {
      "text/plain": "\u001b[2;36m          \u001b[0m\u001b[2;36m \u001b[0mESTOU SOMANDO E IMPRIMINDO UM LOG MELHOR \u001b[1m{\u001b[0mx\u001b[1m}\u001b[0m + \u001b[1m{\u001b[0my\u001b[1m}\u001b[0m = \u001b[1m{\u001b[0mx + y\u001b[1m}\u001b[0m       \u001b]8;id=930113;file:///tmp/ipykernel_18999/3353167019.py\u001b\\\u001b[2m3353167019.py\u001b[0m\u001b]8;;\u001b\\\u001b[2m:2\u001b[0m\n           \u001b[34m╭─\u001b[0m\u001b[34m \u001b[0m\u001b[3;34mlocals\u001b[0m\u001b[34m \u001b[0m\u001b[34m─╮\u001b[0m                                                                      \n           \u001b[34m│\u001b[0m \u001b[3;33mx\u001b[0m\u001b[31m =\u001b[0m \u001b[1;36m3\u001b[0m    \u001b[34m│\u001b[0m                                                                      \n           \u001b[34m│\u001b[0m \u001b[3;33my\u001b[0m\u001b[31m =\u001b[0m \u001b[1;36m4\u001b[0m    \u001b[34m│\u001b[0m                                                                      \n           \u001b[34m╰──────────╯\u001b[0m                                                                      \n",
      "text/html": "<pre style=\"white-space:pre;overflow-x:auto;line-height:normal;font-family:Menlo,'DejaVu Sans Mono',consolas,'Courier New',monospace\"><span style=\"color: #7fbfbf; text-decoration-color: #7fbfbf\">           </span>ESTOU SOMANDO E IMPRIMINDO UM LOG MELHOR <span style=\"font-weight: bold\">{</span>x<span style=\"font-weight: bold\">}</span> + <span style=\"font-weight: bold\">{</span>y<span style=\"font-weight: bold\">}</span> = <span style=\"font-weight: bold\">{</span>x + y<span style=\"font-weight: bold\">}</span>       <a href=\"file:///tmp/ipykernel_18999/3353167019.py\"><span style=\"color: #7f7f7f; text-decoration-color: #7f7f7f\">3353167019.py</span></a><span style=\"color: #7f7f7f; text-decoration-color: #7f7f7f\">:2</span>\n           <span style=\"color: #000080; text-decoration-color: #000080\">╭─ </span><span style=\"color: #000080; text-decoration-color: #000080; font-style: italic\">locals</span><span style=\"color: #000080; text-decoration-color: #000080\"> ─╮</span>                                                                      \n           <span style=\"color: #000080; text-decoration-color: #000080\">│</span> <span style=\"color: #808000; text-decoration-color: #808000; font-style: italic\">x</span><span style=\"color: #800000; text-decoration-color: #800000\"> =</span> <span style=\"color: #008080; text-decoration-color: #008080; font-weight: bold\">3</span>    <span style=\"color: #000080; text-decoration-color: #000080\">│</span>                                                                      \n           <span style=\"color: #000080; text-decoration-color: #000080\">│</span> <span style=\"color: #808000; text-decoration-color: #808000; font-style: italic\">y</span><span style=\"color: #800000; text-decoration-color: #800000\"> =</span> <span style=\"color: #008080; text-decoration-color: #008080; font-weight: bold\">4</span>    <span style=\"color: #000080; text-decoration-color: #000080\">│</span>                                                                      \n           <span style=\"color: #000080; text-decoration-color: #000080\">╰──────────╯</span>                                                                      \n</pre>\n"
     },
     "metadata": {}
    },
    {
     "output_type": "display_data",
     "data": {
      "text/plain": "\u001b[2;36m          \u001b[0m\u001b[2;36m \u001b[0mESTOU SOMANDO E IMPRIMINDO UM LOG MELHOR \u001b[1m{\u001b[0mx\u001b[1m}\u001b[0m + \u001b[1m{\u001b[0my\u001b[1m}\u001b[0m = \u001b[1m{\u001b[0mx + y\u001b[1m}\u001b[0m       \u001b]8;id=836001;file:///tmp/ipykernel_18999/3353167019.py\u001b\\\u001b[2m3353167019.py\u001b[0m\u001b]8;;\u001b\\\u001b[2m:2\u001b[0m\n           \u001b[34m╭─\u001b[0m\u001b[34m \u001b[0m\u001b[3;34mlocals\u001b[0m\u001b[34m \u001b[0m\u001b[34m─╮\u001b[0m                                                                      \n           \u001b[34m│\u001b[0m \u001b[3;33mx\u001b[0m\u001b[31m =\u001b[0m \u001b[1;36m5\u001b[0m    \u001b[34m│\u001b[0m                                                                      \n           \u001b[34m│\u001b[0m \u001b[3;33my\u001b[0m\u001b[31m =\u001b[0m \u001b[32m'6'\u001b[0m  \u001b[34m│\u001b[0m                                                                      \n           \u001b[34m╰──────────╯\u001b[0m                                                                      \n",
      "text/html": "<pre style=\"white-space:pre;overflow-x:auto;line-height:normal;font-family:Menlo,'DejaVu Sans Mono',consolas,'Courier New',monospace\"><span style=\"color: #7fbfbf; text-decoration-color: #7fbfbf\">           </span>ESTOU SOMANDO E IMPRIMINDO UM LOG MELHOR <span style=\"font-weight: bold\">{</span>x<span style=\"font-weight: bold\">}</span> + <span style=\"font-weight: bold\">{</span>y<span style=\"font-weight: bold\">}</span> = <span style=\"font-weight: bold\">{</span>x + y<span style=\"font-weight: bold\">}</span>       <a href=\"file:///tmp/ipykernel_18999/3353167019.py\"><span style=\"color: #7f7f7f; text-decoration-color: #7f7f7f\">3353167019.py</span></a><span style=\"color: #7f7f7f; text-decoration-color: #7f7f7f\">:2</span>\n           <span style=\"color: #000080; text-decoration-color: #000080\">╭─ </span><span style=\"color: #000080; text-decoration-color: #000080; font-style: italic\">locals</span><span style=\"color: #000080; text-decoration-color: #000080\"> ─╮</span>                                                                      \n           <span style=\"color: #000080; text-decoration-color: #000080\">│</span> <span style=\"color: #808000; text-decoration-color: #808000; font-style: italic\">x</span><span style=\"color: #800000; text-decoration-color: #800000\"> =</span> <span style=\"color: #008080; text-decoration-color: #008080; font-weight: bold\">5</span>    <span style=\"color: #000080; text-decoration-color: #000080\">│</span>                                                                      \n           <span style=\"color: #000080; text-decoration-color: #000080\">│</span> <span style=\"color: #808000; text-decoration-color: #808000; font-style: italic\">y</span><span style=\"color: #800000; text-decoration-color: #800000\"> =</span> <span style=\"color: #008000; text-decoration-color: #008000\">'6'</span>  <span style=\"color: #000080; text-decoration-color: #000080\">│</span>                                                                      \n           <span style=\"color: #000080; text-decoration-color: #000080\">╰──────────╯</span>                                                                      \n</pre>\n"
     },
     "metadata": {}
    },
    {
     "output_type": "display_data",
     "data": {
      "text/plain": "\u001b[91m╭─\u001b[0m\u001b[91m─────────────────────────── \u001b[0m\u001b[1;31mTraceback \u001b[0m\u001b[1;2;31m(most recent call last)\u001b[0m\u001b[91m ───────────────────────────\u001b[0m\u001b[91m─╮\u001b[0m\n\u001b[91m│\u001b[0m \u001b[2;33m/tmp/ipykernel_18999/\u001b[0m\u001b[1;33m3353167019.py\u001b[0m:\u001b[94m7\u001b[0m in \u001b[92m<module>\u001b[0m                                          \u001b[91m│\u001b[0m\n\u001b[91m│\u001b[0m                                                                                           \u001b[91m│\u001b[0m\n\u001b[91m│\u001b[0m \u001b[3;31m[Errno 2] No such file or directory: '/tmp/ipykernel_18999/3353167019.py'\u001b[0m                 \u001b[91m│\u001b[0m\n\u001b[91m│\u001b[0m                                                                                           \u001b[91m│\u001b[0m\n\u001b[91m│\u001b[0m \u001b[2;33m/tmp/ipykernel_18999/\u001b[0m\u001b[1;33m3353167019.py\u001b[0m:\u001b[94m3\u001b[0m in \u001b[92madd\u001b[0m                                               \u001b[91m│\u001b[0m\n\u001b[91m│\u001b[0m                                                                                           \u001b[91m│\u001b[0m\n\u001b[91m│\u001b[0m \u001b[3;31m[Errno 2] No such file or directory: '/tmp/ipykernel_18999/3353167019.py'\u001b[0m                 \u001b[91m│\u001b[0m\n\u001b[91m╰───────────────────────────────────────────────────────────────────────────────────────────╯\u001b[0m\n\u001b[1;91mTypeError: \u001b[0munsupported operand \u001b[1;35mtype\u001b[0m\u001b[1m(\u001b[0ms\u001b[1m)\u001b[0m for +: \u001b[32m'int'\u001b[0m and \u001b[32m'str'\u001b[0m\n",
      "text/html": "<pre style=\"white-space:pre;overflow-x:auto;line-height:normal;font-family:Menlo,'DejaVu Sans Mono',consolas,'Courier New',monospace\"><span style=\"color: #ff0000; text-decoration-color: #ff0000\">╭──────────────────────────── </span><span style=\"color: #800000; text-decoration-color: #800000; font-weight: bold\">Traceback </span><span style=\"color: #bf7f7f; text-decoration-color: #bf7f7f; font-weight: bold\">(most recent call last)</span><span style=\"color: #ff0000; text-decoration-color: #ff0000\"> ────────────────────────────╮</span>\n<span style=\"color: #ff0000; text-decoration-color: #ff0000\">│</span> <span style=\"color: #bfbf7f; text-decoration-color: #bfbf7f\">/tmp/ipykernel_18999/</span><span style=\"color: #808000; text-decoration-color: #808000; font-weight: bold\">3353167019.py</span>:<span style=\"color: #0000ff; text-decoration-color: #0000ff\">7</span> in <span style=\"color: #00ff00; text-decoration-color: #00ff00\">&lt;module&gt;</span>                                          <span style=\"color: #ff0000; text-decoration-color: #ff0000\">│</span>\n<span style=\"color: #ff0000; text-decoration-color: #ff0000\">│</span>                                                                                           <span style=\"color: #ff0000; text-decoration-color: #ff0000\">│</span>\n<span style=\"color: #ff0000; text-decoration-color: #ff0000\">│</span> <span style=\"color: #800000; text-decoration-color: #800000; font-style: italic\">[Errno 2] No such file or directory: '/tmp/ipykernel_18999/3353167019.py'</span>                 <span style=\"color: #ff0000; text-decoration-color: #ff0000\">│</span>\n<span style=\"color: #ff0000; text-decoration-color: #ff0000\">│</span>                                                                                           <span style=\"color: #ff0000; text-decoration-color: #ff0000\">│</span>\n<span style=\"color: #ff0000; text-decoration-color: #ff0000\">│</span> <span style=\"color: #bfbf7f; text-decoration-color: #bfbf7f\">/tmp/ipykernel_18999/</span><span style=\"color: #808000; text-decoration-color: #808000; font-weight: bold\">3353167019.py</span>:<span style=\"color: #0000ff; text-decoration-color: #0000ff\">3</span> in <span style=\"color: #00ff00; text-decoration-color: #00ff00\">add</span>                                               <span style=\"color: #ff0000; text-decoration-color: #ff0000\">│</span>\n<span style=\"color: #ff0000; text-decoration-color: #ff0000\">│</span>                                                                                           <span style=\"color: #ff0000; text-decoration-color: #ff0000\">│</span>\n<span style=\"color: #ff0000; text-decoration-color: #ff0000\">│</span> <span style=\"color: #800000; text-decoration-color: #800000; font-style: italic\">[Errno 2] No such file or directory: '/tmp/ipykernel_18999/3353167019.py'</span>                 <span style=\"color: #ff0000; text-decoration-color: #ff0000\">│</span>\n<span style=\"color: #ff0000; text-decoration-color: #ff0000\">╰───────────────────────────────────────────────────────────────────────────────────────────╯</span>\n<span style=\"color: #ff0000; text-decoration-color: #ff0000; font-weight: bold\">TypeError: </span>unsupported operand <span style=\"color: #800080; text-decoration-color: #800080; font-weight: bold\">type</span><span style=\"font-weight: bold\">(</span>s<span style=\"font-weight: bold\">)</span> for +: <span style=\"color: #008000; text-decoration-color: #008000\">'int'</span> and <span style=\"color: #008000; text-decoration-color: #008000\">'str'</span>\n</pre>\n"
     },
     "metadata": {}
    }
   ],
   "source": [
    "def add(x, y):\n",
    "    console.log(\"ESTOU SOMANDO E IMPRIMINDO UM LOG MELHOR {x} + {y} = {x + y}\", log_locals=True)\n",
    "    return x + y\n",
    "\n",
    "add(1, 2)\n",
    "add(3, 4)\n",
    "add(5, '6')\n",
    "\n"
   ]
  },
  {
   "source": [
    "# TABELAS"
   ],
   "cell_type": "markdown",
   "metadata": {}
  },
  {
   "cell_type": "code",
   "execution_count": 164,
   "metadata": {},
   "outputs": [],
   "source": [
    "from rich.table import Table"
   ]
  },
  {
   "cell_type": "code",
   "execution_count": 166,
   "metadata": {},
   "outputs": [
    {
     "output_type": "display_data",
     "data": {
      "text/plain": "\u001b[3m             LISTA DE COMPRAS              \u001b[0m\n┏━━━━━━━━━━━━━━━━━┳━━━━━━━━━━━━┳━━━━━━━━━━┓\n┃\u001b[1m \u001b[0m\u001b[1mitem           \u001b[0m\u001b[1m \u001b[0m┃\u001b[1m \u001b[0m\u001b[1mquantidade\u001b[0m\u001b[1m \u001b[0m┃\u001b[1m \u001b[0m\u001b[1m   preco\u001b[0m\u001b[1m \u001b[0m┃\n┡━━━━━━━━━━━━━━━━━╇━━━━━━━━━━━━╇━━━━━━━━━━┩\n│\u001b[30m \u001b[0m\u001b[30mPapel higienico\u001b[0m\u001b[30m \u001b[0m│\u001b[35m \u001b[0m\u001b[35m    0     \u001b[0m\u001b[35m \u001b[0m│\u001b[1;32m \u001b[0m\u001b[1;32m R$ 33.9\u001b[0m\u001b[1;32m \u001b[0m│\n│\u001b[30m \u001b[0m\u001b[30mSaboente       \u001b[0m\u001b[30m \u001b[0m│\u001b[35m \u001b[0m\u001b[35m    8     \u001b[0m\u001b[35m \u001b[0m│\u001b[1;32m \u001b[0m\u001b[1;32mR$ 36.46\u001b[0m\u001b[1;32m \u001b[0m│\n│\u001b[30m \u001b[0m\u001b[30mCreme de mão   \u001b[0m\u001b[30m \u001b[0m│\u001b[35m \u001b[0m\u001b[35m    2     \u001b[0m\u001b[35m \u001b[0m│\u001b[1;32m \u001b[0m\u001b[1;32mR$ 68.75\u001b[0m\u001b[1;32m \u001b[0m│\n│\u001b[30m \u001b[0m\u001b[30mescova de dente\u001b[0m\u001b[30m \u001b[0m│\u001b[35m \u001b[0m\u001b[35m    7     \u001b[0m\u001b[35m \u001b[0m│\u001b[1;32m \u001b[0m\u001b[1;32mR$ 64.26\u001b[0m\u001b[1;32m \u001b[0m│\n│\u001b[30m \u001b[0m\u001b[30mpasta dente    \u001b[0m\u001b[30m \u001b[0m│\u001b[35m \u001b[0m\u001b[35m    9     \u001b[0m\u001b[35m \u001b[0m│\u001b[1;32m \u001b[0m\u001b[1;32mR$ 93.13\u001b[0m\u001b[1;32m \u001b[0m│\n└─────────────────┴────────────┴──────────┘\n",
      "text/html": "<pre style=\"white-space:pre;overflow-x:auto;line-height:normal;font-family:Menlo,'DejaVu Sans Mono',consolas,'Courier New',monospace\"><span style=\"font-style: italic\">             LISTA DE COMPRAS              </span>\n┏━━━━━━━━━━━━━━━━━┳━━━━━━━━━━━━┳━━━━━━━━━━┓\n┃<span style=\"font-weight: bold\"> item            </span>┃<span style=\"font-weight: bold\"> quantidade </span>┃<span style=\"font-weight: bold\">    preco </span>┃\n┡━━━━━━━━━━━━━━━━━╇━━━━━━━━━━━━╇━━━━━━━━━━┩\n│<span style=\"color: #000000; text-decoration-color: #000000\"> Papel higienico </span>│<span style=\"color: #800080; text-decoration-color: #800080\">     0      </span>│<span style=\"color: #008000; text-decoration-color: #008000; font-weight: bold\">  R$ 33.9 </span>│\n│<span style=\"color: #000000; text-decoration-color: #000000\"> Saboente        </span>│<span style=\"color: #800080; text-decoration-color: #800080\">     8      </span>│<span style=\"color: #008000; text-decoration-color: #008000; font-weight: bold\"> R$ 36.46 </span>│\n│<span style=\"color: #000000; text-decoration-color: #000000\"> Creme de mão    </span>│<span style=\"color: #800080; text-decoration-color: #800080\">     2      </span>│<span style=\"color: #008000; text-decoration-color: #008000; font-weight: bold\"> R$ 68.75 </span>│\n│<span style=\"color: #000000; text-decoration-color: #000000\"> escova de dente </span>│<span style=\"color: #800080; text-decoration-color: #800080\">     7      </span>│<span style=\"color: #008000; text-decoration-color: #008000; font-weight: bold\"> R$ 64.26 </span>│\n│<span style=\"color: #000000; text-decoration-color: #000000\"> pasta dente     </span>│<span style=\"color: #800080; text-decoration-color: #800080\">     9      </span>│<span style=\"color: #008000; text-decoration-color: #008000; font-weight: bold\"> R$ 93.13 </span>│\n└─────────────────┴────────────┴──────────┘\n</pre>\n"
     },
     "metadata": {}
    }
   ],
   "source": [
    "tabela = Table(title=\"LISTA DE COMPRAS\")\n",
    "\n",
    "tabela.add_column(\"item\", style='cyan black', justify=\"left\")\n",
    "tabela.add_column(\"quantidade\", style='magenta', justify=\"center\")\n",
    "tabela.add_column(\"preco\", style='bold green', justify=\"right\")\n",
    "\n",
    "tabela.add_row(\"Papel higienico\", f\"{choice(range(10))}\", f\"R$ {round(uniform(30, 100), 2)}\")\n",
    "tabela.add_row(\"Saboente\", f\"{choice(range(10))}\", f\"R$ {round(uniform(30, 100), 2)}\")\n",
    "tabela.add_row(\"Creme de mão\", f\"{choice(range(10))}\", f\"R$ {round(uniform(30, 100), 2)}\")\n",
    "tabela.add_row(\"escova de dente\", f\"{choice(range(10))}\", f\"R$ {round(uniform(30, 100), 2)}\")\n",
    "tabela.add_row(\"pasta dente\", f\"{choice(range(10))}\", f\"R$ {round(uniform(30, 100), 2)}\")\n",
    "\n",
    "console.print(tabela)"
   ]
  },
  {
   "cell_type": "code",
   "execution_count": 141,
   "metadata": {},
   "outputs": [],
   "source": [
    "from rich.progress import track\n",
    "# PROGRESSO BARRA"
   ]
  },
  {
   "cell_type": "code",
   "execution_count": 142,
   "metadata": {},
   "outputs": [
    {
     "output_type": "display_data",
     "data": {
      "text/plain": "Progredindo \u001b[38;2;114;156;31m━━━━━━━━━━━━━━━━━━━━━━━━━━━━━━━━━━━━━━━━\u001b[0m \u001b[35m100%\u001b[0m \u001b[36m0:00:00\u001b[0m\n",
      "text/html": "<pre style=\"white-space:pre;overflow-x:auto;line-height:normal;font-family:Menlo,'DejaVu Sans Mono',consolas,'Courier New',monospace\">Progredindo <span style=\"color: #729c1f; text-decoration-color: #729c1f\">━━━━━━━━━━━━━━━━━━━━━━━━━━━━━━━━━━━━━━━━</span> <span style=\"color: #800080; text-decoration-color: #800080\">100%</span> <span style=\"color: #008080; text-decoration-color: #008080\">0:00:00</span>\n</pre>\n"
     },
     "metadata": {}
    }
   ],
   "source": [
    "for i in track(range(100), description='Progredindo'):\n",
    "    print(f\"TRABALHANDO {i}% \")\n",
    "    sleep(.1)"
   ]
  },
  {
   "source": [
    "# CONSEGUIMOS SALVAR ESSAS SAIDAS EM HTML 😍️"
   ],
   "cell_type": "markdown",
   "metadata": {}
  },
  {
   "cell_type": "code",
   "execution_count": 125,
   "metadata": {},
   "outputs": [],
   "source": [
    "console.save_html(\"/tmp/log.html\")"
   ]
  },
  {
   "cell_type": "code",
   "execution_count": null,
   "metadata": {},
   "outputs": [],
   "source": []
  }
 ]
}